{
  "nbformat": 4,
  "nbformat_minor": 0,
  "metadata": {
    "colab": {
      "provenance": [],
      "gpuType": "T4",
      "include_colab_link": true
    },
    "kernelspec": {
      "name": "python3",
      "display_name": "Python 3"
    },
    "language_info": {
      "name": "python"
    },
    "accelerator": "GPU"
  },
  "cells": [
    {
      "cell_type": "markdown",
      "metadata": {
        "id": "view-in-github",
        "colab_type": "text"
      },
      "source": [
        "<a href=\"https://colab.research.google.com/github/mHarvey52/com4513_assignment/blob/main/BaselineGoogleColab.ipynb\" target=\"_parent\"><img src=\"https://colab.research.google.com/assets/colab-badge.svg\" alt=\"Open In Colab\"/></a>"
      ]
    },
    {
      "cell_type": "markdown",
      "source": [
        "Install conda with python 3.6"
      ],
      "metadata": {
        "id": "_IAjeUCRzbr0"
      }
    },
    {
      "cell_type": "code",
      "source": [
        "%env PYTHONPATH = # /env/python\n",
        "!conda config --set ssl_verify no\n",
        "!wget https://repo.anaconda.com/miniconda/Miniconda3-4.3.21-Linux-x86_64.sh\n",
        "!chmod +x Miniconda3-4.3.21-Linux-x86_64.sh\n",
        "!./Miniconda3-4.3.21-Linux-x86_64.sh -b -f -p /usr/local\n",
        "!conda update conda"
      ],
      "metadata": {
        "colab": {
          "base_uri": "https://localhost:8080/"
        },
        "id": "febSuVik8Rue",
        "outputId": "8dc19bc4-f6ac-4ffc-cf7b-615240222842"
      },
      "execution_count": null,
      "outputs": [
        {
          "output_type": "stream",
          "name": "stdout",
          "text": [
            "env: PYTHONPATH=# /env/python\n",
            "--2024-04-21 21:20:54--  https://repo.anaconda.com/miniconda/Miniconda3-4.3.21-Linux-x86_64.sh\n",
            "Resolving repo.anaconda.com (repo.anaconda.com)... 104.16.32.241, 104.16.191.158, 2606:4700::6810:bf9e, ...\n",
            "Connecting to repo.anaconda.com (repo.anaconda.com)|104.16.32.241|:443... connected.\n",
            "HTTP request sent, awaiting response... 200 OK\n",
            "Length: 35074768 (33M) [application/x-sh]\n",
            "Saving to: ‘Miniconda3-4.3.21-Linux-x86_64.sh.1’\n",
            "\n",
            "Miniconda3-4.3.21-L 100%[===================>]  33.45M  29.1MB/s    in 1.1s    \n",
            "\n",
            "2024-04-21 21:20:56 (29.1 MB/s) - ‘Miniconda3-4.3.21-Linux-x86_64.sh.1’ saved [35074768/35074768]\n",
            "\n",
            "PREFIX=/usr/local\n",
            "installing: python-3.6.1-2 ...\n",
            "installing: asn1crypto-0.22.0-py36_0 ...\n",
            "installing: cffi-1.10.0-py36_0 ...\n",
            "installing: conda-env-2.6.0-0 ...\n",
            "installing: cryptography-1.8.1-py36_0 ...\n",
            "installing: idna-2.5-py36_0 ...\n",
            "installing: libffi-3.2.1-1 ...\n",
            "installing: openssl-1.0.2l-0 ...\n",
            "installing: packaging-16.8-py36_0 ...\n",
            "installing: pycosat-0.6.2-py36_0 ...\n",
            "installing: pycparser-2.17-py36_0 ...\n",
            "installing: pyopenssl-17.0.0-py36_0 ...\n",
            "installing: pyparsing-2.1.4-py36_0 ...\n",
            "installing: readline-6.2-2 ...\n",
            "installing: requests-2.14.2-py36_0 ...\n",
            "installing: ruamel_yaml-0.11.14-py36_1 ...\n",
            "installing: setuptools-27.2.0-py36_0 ...\n",
            "installing: six-1.10.0-py36_0 ...\n",
            "installing: sqlite-3.13.0-0 ...\n",
            "installing: tk-8.5.18-0 ...\n",
            "installing: xz-5.2.2-1 ...\n",
            "installing: yaml-0.1.6-0 ...\n",
            "installing: zlib-1.2.8-3 ...\n",
            "installing: conda-4.3.21-py36_0 ...\n",
            "installing: pip-9.0.1-py36_1 ...\n",
            "installing: wheel-0.29.0-py36_0 ...\n",
            "mkdir: cannot create directory ‘/usr/local/envs’: File exists\n",
            "Python 3.6.1 :: Continuum Analytics, Inc.\n",
            "creating default environment...\n",
            "using -f (force) option\n",
            "installation finished.\n",
            "WARNING:\n",
            "    You currently have a PYTHONPATH environment variable set. This may cause\n",
            "    unexpected behavior when running the Python interpreter in Miniconda3.\n",
            "    For best results, please verify that your PYTHONPATH only points to\n",
            "    directories of packages that are compatible with the Python interpreter\n",
            "    in Miniconda3: /usr/local\n",
            "Fetching package metadata .........\n",
            "Solving package specifications: .\n",
            "\n",
            "Package plan for installation in environment /usr/local:\n",
            "\n",
            "The following packages will be UPDATED:\n",
            "\n",
            "    conda: 4.3.21-py36_0 --> 4.3.30-py36h5d9f9f4_0\n",
            "\n",
            "Proceed ([y]/n)? y\n",
            "\n",
            "conda-4.3.30-p 100% || Time: 0:00:00  10.39 MB/s\n"
          ]
        }
      ]
    },
    {
      "cell_type": "code",
      "source": [
        "import sys\n",
        "sys.path.append('/usr/local/lib/python3.10/site-packages')\n",
        "!conda create -y -n myenv python=3.6"
      ],
      "metadata": {
        "colab": {
          "base_uri": "https://localhost:8080/"
        },
        "id": "0Tqb2WKv8XoW",
        "outputId": "58989958-2b38-480c-ecd4-39fb7fd92c73"
      },
      "execution_count": null,
      "outputs": [
        {
          "output_type": "stream",
          "name": "stdout",
          "text": [
            "Fetching package metadata ...........\n",
            "Solving package specifications: .\n",
            "\n",
            "Package plan for installation in environment /usr/local/envs/myenv:\n",
            "\n",
            "The following NEW packages will be INSTALLED:\n",
            "\n",
            "    _libgcc_mutex:    0.1-main                \n",
            "    ca-certificates:  2024.3.11-h06a4308_0    \n",
            "    certifi:          2021.5.30-py36h06a4308_0\n",
            "    ld_impl_linux-64: 2.38-h1181459_1         \n",
            "    libffi:           3.3-he6710b0_2          \n",
            "    libgcc-ng:        9.1.0-hdf63c60_0        \n",
            "    libstdcxx-ng:     9.1.0-hdf63c60_0        \n",
            "    ncurses:          6.3-h7f8727e_2          \n",
            "    openssl:          1.1.1w-h7f8727e_0       \n",
            "    pip:              21.2.2-py36h06a4308_0   \n",
            "    python:           3.6.13-h12debd9_1       \n",
            "    readline:         8.1.2-h7f8727e_1        \n",
            "    setuptools:       58.0.4-py36h06a4308_0   \n",
            "    sqlite:           3.38.5-hc218d9a_0       \n",
            "    tk:               8.6.12-h1ccaba5_0       \n",
            "    wheel:            0.37.1-pyhd3eb1b0_0     \n",
            "    xz:               5.2.5-h7f8727e_1        \n",
            "    zlib:             1.2.12-h7f8727e_2       \n",
            "\n",
            "_libgcc_mutex- 100% || Time: 0:00:00   4.01 MB/s\n",
            "ca-certificate 100% || Time: 0:00:00   7.58 MB/s\n",
            "ld_impl_linux- 100% || Time: 0:00:00  27.91 MB/s\n",
            "libstdcxx-ng-9 100% || Time: 0:00:00  49.96 MB/s\n",
            "libgcc-ng-9.1. 100% || Time: 0:00:00  55.13 MB/s\n",
            "libffi-3.3-he6 100% || Time: 0:00:00  30.99 MB/s\n",
            "ncurses-6.3-h7 100% || Time: 0:00:00  40.84 MB/s\n",
            "openssl-1.1.1w 100% || Time: 0:00:00  25.55 MB/s\n",
            "xz-5.2.5-h7f87 100% || Time: 0:00:00   7.80 MB/s\n",
            "zlib-1.2.12-h7 100% || Time: 0:00:00  46.31 MB/s\n",
            "readline-8.1.2 100% || Time: 0:00:00  48.00 MB/s\n",
            "tk-8.6.12-h1cc 100% || Time: 0:00:00  47.95 MB/s\n",
            "sqlite-3.38.5- 100% || Time: 0:00:00  51.64 MB/s\n",
            "python-3.6.13- 100% || Time: 0:00:00  58.25 MB/s\n",
            "certifi-2021.5 100% || Time: 0:00:00  48.37 MB/s\n",
            "wheel-0.37.1-p 100% || Time: 0:00:00  35.01 MB/s\n",
            "setuptools-58. 100% || Time: 0:00:00  42.79 MB/s\n",
            "pip-21.2.2-py3 100% || Time: 0:00:00  57.93 MB/s\n",
            "#\n",
            "# To activate this environment, use:\n",
            "# > source activate myenv\n",
            "#\n",
            "# To deactivate an active environment, use:\n",
            "# > source deactivate\n",
            "#\n",
            "\n"
          ]
        }
      ]
    },
    {
      "cell_type": "code",
      "source": [
        "!source activate myenv\n",
        "!conda install -y python=3.6.6"
      ],
      "metadata": {
        "colab": {
          "base_uri": "https://localhost:8080/"
        },
        "id": "ax07h7pq8fJN",
        "outputId": "9ef0be54-a5d1-43b9-c602-fbc9e9079362"
      },
      "execution_count": null,
      "outputs": [
        {
          "output_type": "stream",
          "name": "stdout",
          "text": [
            "Fetching package metadata ...........\n",
            "Solving package specifications: .\n",
            "\n",
            "Package plan for installation in environment /usr/local:\n",
            "\n",
            "The following NEW packages will be INSTALLED:\n",
            "\n",
            "    _libgcc_mutex:          0.1-main                \n",
            "    brotlipy:               0.7.0-py36h27cfd23_1003 \n",
            "    ca-certificates:        2024.3.11-h06a4308_0    \n",
            "    certifi:                2021.5.30-py36h06a4308_0\n",
            "    charset-normalizer:     2.0.4-pyhd3eb1b0_0      \n",
            "    colorama:               0.4.4-pyhd3eb1b0_0      \n",
            "    conda-package-handling: 1.7.3-py36h27cfd23_1    \n",
            "    libedit:                3.1.20210910-h7f8727e_0 \n",
            "    libgcc-ng:              9.1.0-hdf63c60_0        \n",
            "    libstdcxx-ng:           9.1.0-hdf63c60_0        \n",
            "    ncurses:                6.3-h7f8727e_2          \n",
            "    pysocks:                1.7.1-py36h06a4308_0    \n",
            "    tqdm:                   4.63.0-pyhd3eb1b0_0     \n",
            "    urllib3:                1.26.8-pyhd3eb1b0_0     \n",
            "\n",
            "The following packages will be UPDATED:\n",
            "\n",
            "    conda:                  4.3.30-py36h5d9f9f4_0    --> 4.10.3-py36h06a4308_0\n",
            "    conda-env:              2.6.0-0                  --> 2.6.0-1              \n",
            "    openssl:                1.0.2l-0                 --> 1.0.2u-h7b6447c_0    \n",
            "    pycosat:                0.6.2-py36_0             --> 0.6.3-py36h27cfd23_0 \n",
            "    python:                 3.6.1-2                  --> 3.6.6-h6e4f718_2     \n",
            "    readline:               6.2-2                    --> 7.0-h7b6447c_5       \n",
            "    requests:               2.14.2-py36_0            --> 2.27.1-pyhd3eb1b0_0  \n",
            "    setuptools:             27.2.0-py36_0            --> 58.0.4-py36h06a4308_0\n",
            "    sqlite:                 3.13.0-0                 --> 3.33.0-h62c20be_0    \n",
            "    tk:                     8.5.18-0                 --> 8.6.12-h1ccaba5_0    \n",
            "    xz:                     5.2.2-1                  --> 5.2.5-h7f8727e_1     \n",
            "    zlib:                   1.2.8-3                  --> 1.2.12-h7f8727e_2    \n",
            "\n",
            "conda-env-2.6. 100% || Time: 0:00:00   3.36 MB/s\n",
            "openssl-1.0.2u 100% || Time: 0:00:00  26.09 MB/s\n",
            "libedit-3.1.20 100% || Time: 0:00:00  56.23 MB/s\n",
            "readline-7.0-h 100% || Time: 0:00:00   2.76 MB/s\n",
            "sqlite-3.33.0- 100% || Time: 0:00:00   7.42 MB/s\n",
            "python-3.6.6-h 100% || Time: 0:00:00  59.30 MB/s\n",
            "charset-normal 100% || Time: 0:00:00  32.85 MB/s\n",
            "colorama-0.4.4 100% || Time: 0:00:00  19.17 MB/s\n",
            "pycosat-0.6.3- 100% || Time: 0:00:00  38.75 MB/s\n",
            "pysocks-1.7.1- 100% || Time: 0:00:00  35.49 MB/s\n",
            "tqdm-4.63.0-py 100% || Time: 0:00:00  32.09 MB/s\n",
            "brotlipy-0.7.0 100% || Time: 0:00:00   5.29 MB/s\n",
            "conda-package- 100% || Time: 0:00:00   6.42 MB/s\n",
            "urllib3-1.26.8 100% || Time: 0:00:00  48.55 MB/s\n",
            "requests-2.27. 100% || Time: 0:00:00  35.29 MB/s\n",
            "conda-4.10.3-p 100% || Time: 0:00:00  13.08 MB/s\n"
          ]
        }
      ]
    },
    {
      "cell_type": "code",
      "source": [
        "# Checking the python version is 3.6.6\n",
        "!python --version"
      ],
      "metadata": {
        "colab": {
          "base_uri": "https://localhost:8080/"
        },
        "id": "zNTuz0eP8m2Z",
        "outputId": "1035358a-289f-4ab5-925b-18ac3e8696d1"
      },
      "execution_count": null,
      "outputs": [
        {
          "output_type": "stream",
          "name": "stdout",
          "text": [
            "Python 3.6.6 :: Anaconda, Inc.\n"
          ]
        }
      ]
    },
    {
      "cell_type": "markdown",
      "source": [
        "Install dependencies"
      ],
      "metadata": {
        "id": "7hrXyop1zsBJ"
      }
    },
    {
      "cell_type": "code",
      "source": [
        "!conda install -y ipykernel"
      ],
      "metadata": {
        "colab": {
          "base_uri": "https://localhost:8080/"
        },
        "id": "DB8mkCQS72kX",
        "outputId": "13d32fe9-afdb-4040-e53e-6f4d3e63cf80"
      },
      "execution_count": null,
      "outputs": [
        {
          "output_type": "stream",
          "name": "stdout",
          "text": [
            "Collecting package metadata (current_repodata.json): - \b\b\\ \b\b| \b\b/ \b\b- \b\b\\ \b\b| \b\b/ \b\b- \b\b\\ \b\b| \b\b/ \b\b- \b\b\\ \b\b| \b\b/ \b\b- \b\b\\ \b\b| \b\b/ \b\b- \b\b\\ \b\b| \b\b/ \b\b- \b\b\\ \b\b| \b\b/ \b\b- \b\b\\ \b\b| \b\bdone\n",
            "Solving environment: - \b\b\\ \b\b| \b\b/ \b\b- \b\b\\ \b\b| \b\b/ \b\b- \b\b\\ \b\b| \b\b/ \b\b- \b\b\\ \b\b| \b\bfailed with initial frozen solve. Retrying with flexible solve.\n",
            "Solving environment: - \b\b\\ \b\b| \b\b/ \b\b- \b\b\\ \b\b| \b\b/ \b\b- \b\b\\ \b\b| \b\b/ \b\b- \b\b\\ \b\b| \b\b/ \b\b- \b\b\\ \b\b| \b\b/ \b\b- \b\b\\ \b\bfailed with repodata from current_repodata.json, will retry with next repodata source.\n",
            "Collecting package metadata (repodata.json): / \b\b- \b\b\\ \b\b| \b\b/ \b\b- \b\b\\ \b\b| \b\b/ \b\b- \b\b\\ \b\b| \b\b/ \b\b- \b\b\\ \b\b| \b\b/ \b\b- \b\b\\ \b\b| \b\b/ \b\b- \b\b\\ \b\b| \b\b/ \b\b- \b\b\\ \b\b| \b\b/ \b\b- \b\b\\ \b\b| \b\b/ \b\b- \b\b\\ \b\b| \b\b/ \b\b- \b\b\\ \b\b| \b\b/ \b\b- \b\b\\ \b\b| \b\b/ \b\b- \b\b\\ \b\b| \b\b/ \b\b- \b\b\\ \b\b| \b\b/ \b\b- \b\b\\ \b\b| \b\b/ \b\b- \b\b\\ \b\b| \b\b/ \b\b- \b\b\\ \b\b| \b\b/ \b\b- \b\b\\ \b\b| \b\b/ \b\b- \b\b\\ \b\b| \b\b/ \b\b- \b\b\\ \b\b| \b\b/ \b\b- \b\b\\ \b\b| \b\b/ \b\b- \b\b\\ \b\b| \b\b/ \b\b- \b\b\\ \b\b| \b\b/ \b\b- \b\b\\ \b\b| \b\b/ \b\bdone\n",
            "Solving environment: \\ \b\b| \b\b/ \b\b- \b\b\\ \b\b| \b\b/ \b\b- \b\b\\ \b\b| \b\b/ \b\b- \b\b\\ \b\b| \b\b/ \b\b- \b\b\\ \b\b| \b\b/ \b\b- \b\b\\ \b\b| \b\b/ \b\b- \b\b\\ \b\b| \b\b/ \b\b- \b\b\\ \b\b| \b\b/ \b\b- \b\b\\ \b\b| \b\b/ \b\b- \b\b\\ \b\b| \b\b/ \b\b- \b\b\\ \b\b| \b\b/ \b\b- \b\b\\ \b\b| \b\b/ \b\b- \b\b\\ \b\b| \b\b/ \b\b- \b\b\\ \b\b| \b\b/ \b\b- \b\b\\ \b\b| \b\b/ \b\b- \b\b\\ \b\b| \b\b/ \b\b- \b\b\\ \b\b| \b\b/ \b\b- \b\b\\ \b\b| \b\b/ \b\b- \b\b\\ \n",
            "Warning: >10 possible package resolutions (only showing differing packages):\n",
            "  - https://repo.continuum.io/pkgs/main/linux-64/linux-64::conda-4.10.3-py36h06a4308_0, https://repo.continuum.io/pkgs/main/linux-64/linux-64::conda-env-2.6.0-1, https://repo.continuum.io/pkgs/main/linux-64/linux-64::libedit-3.1.20210910-h7f8727e_0, https://repo.continuum.io/pkgs/main/noarch/noarch::colorama-0.4.4-pyhd3eb1b0_0\n",
            "  - defaults/linux-64::conda-4.10.3-py36h06a4308_0, https://repo.continuum.io/pkgs/main/linux-64/linux-64::conda-env-2.6.0-1, https://repo.continuum.io/pkgs/main/linux-64/linux-64::libedit-3.1.20210910-h7f8727e_0, https://repo.continuum.io/pkgs/main/noarch/noarch::colorama-0.4.4-pyhd3eb1b0_0\n",
            "  - defaults/linux-64::conda-env-2.6.0-1, https://repo.continuum.io/pkgs/main/linux-64/linux-64::conda-4.10.3-py36h06a4308_0, https://repo.continuum.io/pkgs/main/linux-64/linux-64::libedit-3.1.20210910-h7f8727e_0, https://repo.continuum.io/pkgs/main/noarch/noarch::colorama-0.4.4-pyhd3eb1b0_0\n",
            "  - defaults/linux-64::conda-4.10.3-py36h06a4308_0, defaults/linux-64::conda-env-2.6.0-1, https://repo.continuum.io/pkgs/main/linux-64/linux-64::libedit-3.1.20210910-h7f8727e_0, https://repo.continuum.io/pkgs/main/noarch/noarch::colorama-0.4.4-pyhd3eb1b0_0\n",
            "  - defaults/linux-64::conda-env-2.6.0-1, defaults/noarch::colorama-0.4.4-pyhd3eb1b0_0, https://repo.continuum.io/pkgs/main/linux-64/linux-64::conda-4.10.3-py36h06a4308_0, https://repo.continuum.io/pkgs/main/linux-64/linux-64::libedit-3.1.20210910-h7f8727e_0\n",
            "  - defaults/linux-64::conda-4.10.3-py36h06a4308_0, defaults/linux-64::conda-env-2.6.0-1, defaults/noarch::colorama-0.4.4-pyhd3eb1b0_0, https://repo.continuum.io/pkgs/main/linux-64/linux-64::libedit-3.1.20210910-h7f8727e_0\n",
            "  - defaults/noarch::colorama-0.4.4-pyhd3eb1b0_0, https://repo.continuum.io/pkgs/main/linux-64/linux-64::conda-4.10.3-py36h06a4308_0, https://repo.continuum.io/pkgs/main/linux-64/linux-64::conda-env-2.6.0-1, https://repo.continuum.io/pkgs/main/linux-64/linux-64::libedit-3.1.20210910-h7f8727e_0\n",
            "  - defaults/linux-64::conda-4.10.3-py36h06a4308_0, defaults/noarch::colorama-0.4.4-pyhd3eb1b0_0, https://repo.continuum.io/pkgs/main/linux-64/linux-64::conda-env-2.6.0-1, https://repo.continuum.io/pkgs/main/linux-64/linux-64::libedit-3.1.20210910-h7f8727e_0\n",
            "  - defaults/linux-64::libedit-3.1.20210910-h7f8727e_0, defaults/noarch::colorama-0.4.4-pyhd3eb1b0_0, https://repo.continuum.io/pkgs/main/linux-64/linux-64::conda-4.10.3-py36h06a4308_0, https://repo.continuum.io/pkgs/main/linux-64/linux-64::conda-env-2.6.0-1\n",
            "  - defaults/linux-64::libedit-3.1.20210910-h7f8727e_0, https://repo.continuum.io/pkgs/main/linux-64/linux-64::conda-4.10.3-py36h06a4308_0, https://repo.continuum.io/pkgs/main/linux-64/linux-64::conda-env-2.6.0-1, https://repo.continuum.io/pkgs/main/noarch/noarch::colorama-0.4.4-pyhd3eb1b0_0\n",
            "  ... and others\b\b| \b\bdone\n",
            "\n",
            "\n",
            "==> WARNING: A newer version of conda exists. <==\n",
            "  current version: 4.10.3\n",
            "  latest version: 24.3.0\n",
            "\n",
            "Please update conda by running\n",
            "\n",
            "    $ conda update -n base conda\n",
            "\n",
            "\n",
            "\n",
            "## Package Plan ##\n",
            "\n",
            "  environment location: /usr/local\n",
            "\n",
            "  added / updated specs:\n",
            "    - ipykernel\n",
            "\n",
            "\n",
            "The following packages will be downloaded:\n",
            "\n",
            "    package                    |            build\n",
            "    ---------------------------|-----------------\n",
            "    backcall-0.2.0             |     pyhd3eb1b0_0          13 KB\n",
            "    decorator-5.1.1            |     pyhd3eb1b0_0          12 KB\n",
            "    entrypoints-0.3            |           py36_0          12 KB\n",
            "    ipykernel-5.3.4            |   py36h5ca1d4c_0         181 KB\n",
            "    ipython-7.16.1             |   py36h5ca1d4c_0         999 KB\n",
            "    ipython_genutils-0.2.0     |     pyhd3eb1b0_1          27 KB\n",
            "    jedi-0.17.0                |           py36_0         780 KB\n",
            "    jupyter_client-7.1.2       |     pyhd3eb1b0_0          93 KB\n",
            "    jupyter_core-4.8.1         |   py36h06a4308_0          74 KB\n",
            "    libsodium-1.0.18           |       h7b6447c_0         244 KB\n",
            "    nest-asyncio-1.5.1         |     pyhd3eb1b0_0          10 KB\n",
            "    parso-0.8.3                |     pyhd3eb1b0_0          70 KB\n",
            "    pexpect-4.8.0              |     pyhd3eb1b0_3          53 KB\n",
            "    pickleshare-0.7.5          |  pyhd3eb1b0_1003          13 KB\n",
            "    prompt-toolkit-3.0.20      |     pyhd3eb1b0_0         259 KB\n",
            "    ptyprocess-0.7.0           |     pyhd3eb1b0_2          17 KB\n",
            "    pygments-2.11.2            |     pyhd3eb1b0_0         759 KB\n",
            "    python-dateutil-2.8.2      |     pyhd3eb1b0_0         233 KB\n",
            "    pyzmq-22.2.1               |   py36h295c915_1         454 KB\n",
            "    tornado-6.1                |   py36h27cfd23_0         581 KB\n",
            "    traitlets-4.3.3            |   py36h06a4308_0         138 KB\n",
            "    wcwidth-0.2.5              |     pyhd3eb1b0_0          26 KB\n",
            "    zeromq-4.3.4               |       h2531618_0         331 KB\n",
            "    ------------------------------------------------------------\n",
            "                                           Total:         5.3 MB\n",
            "\n",
            "The following NEW packages will be INSTALLED:\n",
            "\n",
            "  backcall           pkgs/main/noarch::backcall-0.2.0-pyhd3eb1b0_0\n",
            "  decorator          pkgs/main/noarch::decorator-5.1.1-pyhd3eb1b0_0\n",
            "  entrypoints        pkgs/main/linux-64::entrypoints-0.3-py36_0\n",
            "  ipykernel          pkgs/main/linux-64::ipykernel-5.3.4-py36h5ca1d4c_0\n",
            "  ipython            pkgs/main/linux-64::ipython-7.16.1-py36h5ca1d4c_0\n",
            "  ipython_genutils   pkgs/main/noarch::ipython_genutils-0.2.0-pyhd3eb1b0_1\n",
            "  jedi               pkgs/main/linux-64::jedi-0.17.0-py36_0\n",
            "  jupyter_client     pkgs/main/noarch::jupyter_client-7.1.2-pyhd3eb1b0_0\n",
            "  jupyter_core       pkgs/main/linux-64::jupyter_core-4.8.1-py36h06a4308_0\n",
            "  libsodium          pkgs/main/linux-64::libsodium-1.0.18-h7b6447c_0\n",
            "  nest-asyncio       pkgs/main/noarch::nest-asyncio-1.5.1-pyhd3eb1b0_0\n",
            "  parso              pkgs/main/noarch::parso-0.8.3-pyhd3eb1b0_0\n",
            "  pexpect            pkgs/main/noarch::pexpect-4.8.0-pyhd3eb1b0_3\n",
            "  pickleshare        pkgs/main/noarch::pickleshare-0.7.5-pyhd3eb1b0_1003\n",
            "  prompt-toolkit     pkgs/main/noarch::prompt-toolkit-3.0.20-pyhd3eb1b0_0\n",
            "  ptyprocess         pkgs/main/noarch::ptyprocess-0.7.0-pyhd3eb1b0_2\n",
            "  pygments           pkgs/main/noarch::pygments-2.11.2-pyhd3eb1b0_0\n",
            "  python-dateutil    pkgs/main/noarch::python-dateutil-2.8.2-pyhd3eb1b0_0\n",
            "  pyzmq              pkgs/main/linux-64::pyzmq-22.2.1-py36h295c915_1\n",
            "  tornado            pkgs/main/linux-64::tornado-6.1-py36h27cfd23_0\n",
            "  traitlets          pkgs/main/linux-64::traitlets-4.3.3-py36h06a4308_0\n",
            "  wcwidth            pkgs/main/noarch::wcwidth-0.2.5-pyhd3eb1b0_0\n",
            "  zeromq             pkgs/main/linux-64::zeromq-4.3.4-h2531618_0\n",
            "\n",
            "\n",
            "\n",
            "Downloading and Extracting Packages\n",
            "wcwidth-0.2.5        | 26 KB     | : 100% 1.0/1 [00:00<00:00,  4.79it/s]\n",
            "backcall-0.2.0       | 13 KB     | : 100% 1.0/1 [00:00<00:00, 25.46it/s]\n",
            "ptyprocess-0.7.0     | 17 KB     | : 100% 1.0/1 [00:00<00:00,  5.26it/s]\n",
            "decorator-5.1.1      | 12 KB     | : 100% 1.0/1 [00:00<00:00,  6.06it/s]\n",
            "ipython_genutils-0.2 | 27 KB     | : 100% 1.0/1 [00:00<00:00,  6.15it/s]\n",
            "prompt-toolkit-3.0.2 | 259 KB    | : 100% 1.0/1 [00:00<00:00,  4.97it/s]\n",
            "ipykernel-5.3.4      | 181 KB    | : 100% 1.0/1 [00:00<00:00,  3.13it/s]\n",
            "pickleshare-0.7.5    | 13 KB     | : 100% 1.0/1 [00:00<00:00,  5.32it/s]\n",
            "zeromq-4.3.4         | 331 KB    | : 100% 1.0/1 [00:00<00:00,  5.91it/s]\n",
            "ipython-7.16.1       | 999 KB    | : 100% 1.0/1 [00:00<00:00,  2.41it/s]\n",
            "jupyter_core-4.8.1   | 74 KB     | : 100% 1.0/1 [00:00<00:00,  4.26it/s]\n",
            "traitlets-4.3.3      | 138 KB    | : 100% 1.0/1 [00:00<00:00,  5.93it/s]\n",
            "libsodium-1.0.18     | 244 KB    | : 100% 1.0/1 [00:00<00:00,  5.98it/s]\n",
            "nest-asyncio-1.5.1   | 10 KB     | : 100% 1.0/1 [00:00<00:00,  6.85it/s]\n",
            "tornado-6.1          | 581 KB    | : 100% 1.0/1 [00:00<00:00,  5.34it/s]\n",
            "pygments-2.11.2      | 759 KB    | : 100% 1.0/1 [00:00<00:00,  4.63it/s]\n",
            "python-dateutil-2.8. | 233 KB    | : 100% 1.0/1 [00:00<00:00,  6.30it/s]\n",
            "jupyter_client-7.1.2 | 93 KB     | : 100% 1.0/1 [00:00<00:00,  6.18it/s]\n",
            "parso-0.8.3          | 70 KB     | : 100% 1.0/1 [00:00<00:00,  6.78it/s]\n",
            "entrypoints-0.3      | 12 KB     | : 100% 1.0/1 [00:00<00:00,  4.66it/s]\n",
            "pexpect-4.8.0        | 53 KB     | : 100% 1.0/1 [00:00<00:00,  6.44it/s]\n",
            "pyzmq-22.2.1         | 454 KB    | : 100% 1.0/1 [00:00<00:00,  3.28it/s]\n",
            "jedi-0.17.0          | 780 KB    | : 100% 1.0/1 [00:00<00:00,  2.29it/s]\n",
            "Preparing transaction: - \b\b\\ \b\bdone\n",
            "Verifying transaction: / \b\b- \b\b\\ \b\b| \b\bdone\n",
            "Executing transaction: - \b\b\\ \b\b| \b\b/ \b\b- \b\b\\ \b\b| \b\b/ \b\b- \b\b\\ \b\b| \b\b/ \b\b- \b\b\\ \b\b| \b\b/ \b\b- \b\bdone\n"
          ]
        }
      ]
    },
    {
      "cell_type": "code",
      "source": [
        "!pip install transformers==2.10.0\n",
        "!pip install protobuf==3.6.0|\n",
        "!pip install pytorch-lightning==0.8.1\n",
        "!pip install torch==1.5.1\n",
        "!pip install bert-score==0.3.3\n",
        "!pip install sacrebleu==1.4.12\n",
        "!pip install moverscore==1.0.3\n",
        "!pip install pyemd"
      ],
      "metadata": {
        "colab": {
          "base_uri": "https://localhost:8080/"
        },
        "id": "MpdxduO7_eSe",
        "outputId": "301602a4-f864-4ab6-a181-f9b19fd13a1b"
      },
      "execution_count": null,
      "outputs": [
        {
          "output_type": "stream",
          "name": "stdout",
          "text": [
            "Collecting transformers==2.10.0\n",
            "  Downloading https://files.pythonhosted.org/packages/12/b5/ac41e3e95205ebf53439e4dd087c58e9fd371fd8e3724f2b9b4cdb8282e5/transformers-2.10.0-py3-none-any.whl (660kB)\n",
            "\u001b[K    100% |████████████████████████████████| 665kB 1.6MB/s \n",
            "\u001b[?25hCollecting tokenizers==0.7.0 (from transformers==2.10.0)\n",
            "  Downloading https://files.pythonhosted.org/packages/14/e5/a26eb4716523808bb0a799fcfdceb6ebf77a18169d9591b2f46a9adb87d9/tokenizers-0.7.0-cp36-cp36m-manylinux1_x86_64.whl (3.8MB)\n",
            "\u001b[K    100% |████████████████████████████████| 3.8MB 373kB/s \n",
            "\u001b[?25hCollecting regex!=2019.12.17 (from transformers==2.10.0)\n",
            "  Downloading https://files.pythonhosted.org/packages/fd/75/ed64d258199c5ea90be0b6f772a7e3d408e794f54236afa0f28e1db384d6/regex-2023.8.8-cp36-cp36m-manylinux_2_5_x86_64.manylinux1_x86_64.manylinux_2_12_x86_64.manylinux2010_x86_64.whl (678kB)\n",
            "\u001b[K    100% |████████████████████████████████| 686kB 2.1MB/s \n",
            "\u001b[?25hCollecting dataclasses; python_version < \"3.7\" (from transformers==2.10.0)\n",
            "  Downloading https://files.pythonhosted.org/packages/fe/ca/75fac5856ab5cfa51bbbcefa250182e50441074fdc3f803f6e76451fab43/dataclasses-0.8-py3-none-any.whl\n",
            "Collecting sentencepiece (from transformers==2.10.0)\n",
            "  Downloading https://files.pythonhosted.org/packages/c9/d2/b9c7ca067c26d8ff085d252c89b5f69609ca93fb85a00ede95f4857865d4/sentencepiece-0.2.0.tar.gz (2.6MB)\n",
            "\u001b[K    100% |████████████████████████████████| 2.6MB 520kB/s \n",
            "\u001b[?25hRequirement already satisfied: tqdm>=4.27 in /usr/local/lib/python3.6/site-packages (from transformers==2.10.0)\n",
            "Requirement already satisfied: requests in /usr/local/lib/python3.6/site-packages (from transformers==2.10.0)\n",
            "Collecting numpy (from transformers==2.10.0)\n",
            "  Downloading https://files.pythonhosted.org/packages/45/b2/6c7545bb7a38754d63048c7696804a0d947328125d81bf12beaa692c3ae3/numpy-1.19.5-cp36-cp36m-manylinux1_x86_64.whl (13.4MB)\n",
            "\u001b[K    100% |████████████████████████████████| 13.4MB 100kB/s \n",
            "\u001b[?25hCollecting sacremoses (from transformers==2.10.0)\n",
            "  Downloading https://files.pythonhosted.org/packages/28/78/fef8d089db5b97546fd6d1ff2e813b8544e85670bf3a8c378c9d0250b98d/sacremoses-0.0.53.tar.gz (880kB)\n",
            "\u001b[K    100% |████████████████████████████████| 880kB 2.0MB/s \n",
            "\u001b[?25hCollecting filelock (from transformers==2.10.0)\n",
            "  Downloading https://files.pythonhosted.org/packages/84/ce/8916d10ef537f3f3b046843255f9799504aa41862bfa87844b9bdc5361cd/filelock-3.4.1-py3-none-any.whl\n",
            "Collecting importlib-resources; python_version < \"3.7\" (from tqdm>=4.27->transformers==2.10.0)\n",
            "  Downloading https://files.pythonhosted.org/packages/24/1b/33e489669a94da3ef4562938cd306e8fa915e13939d7b8277cb5569cb405/importlib_resources-5.4.0-py3-none-any.whl\n",
            "Requirement already satisfied: certifi>=2017.4.17 in /usr/local/lib/python3.6/site-packages (from requests->transformers==2.10.0)\n",
            "Requirement already satisfied: urllib3<1.27,>=1.21.1 in /usr/local/lib/python3.6/site-packages (from requests->transformers==2.10.0)\n",
            "Requirement already satisfied: idna<4,>=2.5; python_version >= \"3\" in /usr/local/lib/python3.6/site-packages (from requests->transformers==2.10.0)\n",
            "Requirement already satisfied: charset-normalizer~=2.0.0; python_version >= \"3\" in /usr/local/lib/python3.6/site-packages (from requests->transformers==2.10.0)\n",
            "Requirement already satisfied: six in /usr/local/lib/python3.6/site-packages (from sacremoses->transformers==2.10.0)\n",
            "Collecting click (from sacremoses->transformers==2.10.0)\n",
            "  Downloading https://files.pythonhosted.org/packages/4a/a8/0b2ced25639fb20cc1c9784de90a8c25f9504a7f18cd8b5397bd61696d7d/click-8.0.4-py3-none-any.whl (97kB)\n",
            "\u001b[K    100% |████████████████████████████████| 102kB 11.7MB/s \n",
            "\u001b[?25hCollecting joblib (from sacremoses->transformers==2.10.0)\n",
            "  Downloading https://files.pythonhosted.org/packages/7c/91/d3ba0401e62d7e42816bc7d97b82d19c95c164b3e149a87c0a1c026a735e/joblib-1.1.1-py2.py3-none-any.whl (309kB)\n",
            "\u001b[K    100% |████████████████████████████████| 317kB 4.4MB/s \n",
            "\u001b[?25hCollecting zipp>=3.1.0; python_version < \"3.10\" (from importlib-resources; python_version < \"3.7\"->tqdm>=4.27->transformers==2.10.0)\n",
            "  Downloading https://files.pythonhosted.org/packages/bd/df/d4a4974a3e3957fd1c1fa3082366d7fff6e428ddb55f074bf64876f8e8ad/zipp-3.6.0-py3-none-any.whl\n",
            "Collecting importlib-metadata; python_version < \"3.8\" (from click->sacremoses->transformers==2.10.0)\n",
            "  Downloading https://files.pythonhosted.org/packages/a0/a1/b153a0a4caf7a7e3f15c2cd56c7702e2cf3d89b1b359d1f1c5e59d68f4ce/importlib_metadata-4.8.3-py3-none-any.whl\n",
            "Collecting typing-extensions>=3.6.4; python_version < \"3.8\" (from importlib-metadata; python_version < \"3.8\"->click->sacremoses->transformers==2.10.0)\n",
            "  Downloading https://files.pythonhosted.org/packages/45/6b/44f7f8f1e110027cf88956b59f2fad776cca7e1704396d043f89effd3a0e/typing_extensions-4.1.1-py3-none-any.whl\n",
            "Building wheels for collected packages: sentencepiece, sacremoses\n",
            "  Running setup.py bdist_wheel for sentencepiece ... \u001b[?25ldone\n",
            "\u001b[?25h  Stored in directory: /root/.cache/pip/wheels/e3/52/7c/94e4e19ae162d72e59e6346cd544ecb767c95751826e841365\n",
            "  Running setup.py bdist_wheel for sacremoses ... \u001b[?25ldone\n",
            "\u001b[?25h  Stored in directory: /root/.cache/pip/wheels/56/d5/b2/bc878b2bbddfbcc8fd62ca73c4fd842bd28c1fd3dbdf424c74\n",
            "Successfully built sentencepiece sacremoses\n",
            "Installing collected packages: tokenizers, regex, dataclasses, sentencepiece, numpy, zipp, typing-extensions, importlib-metadata, click, joblib, sacremoses, filelock, transformers, importlib-resources\n",
            "Successfully installed click-8.0.4 dataclasses-0.8 filelock-3.4.1 importlib-metadata-4.8.3 importlib-resources-5.4.0 joblib-1.1.1 numpy-1.19.5 regex-2023.8.8 sacremoses-0.0.53 sentencepiece-0.2.0 tokenizers-0.7.0 transformers-2.10.0 typing-extensions-4.1.1 zipp-3.6.0\n",
            "/bin/bash: -c: line 2: syntax error: unexpected end of file\n",
            "Collecting pytorch-lightning==0.8.1\n",
            "  Downloading https://files.pythonhosted.org/packages/68/8e/d1bb6f3696aaed40bf8263c0d9be95593dbc6a63921cca68f0e7f60e7893/pytorch_lightning-0.8.1-py3-none-any.whl (293kB)\n",
            "\u001b[K    100% |████████████████████████████████| 296kB 3.8MB/s \n",
            "\u001b[?25hCollecting torch>=1.3 (from pytorch-lightning==0.8.1)\n",
            "  Downloading https://files.pythonhosted.org/packages/a4/54/81b1c3c574a1ffde54b0c82ed2a37d81395709cdd5f50e59970aeed5d95e/torch-1.10.2-cp36-cp36m-manylinux1_x86_64.whl (881.9MB)\n",
            "\u001b[K    100% |████████████████████████████████| 881.9MB 1.4kB/s \n",
            "\u001b[?25hCollecting PyYAML>=5.1 (from pytorch-lightning==0.8.1)\n",
            "  Downloading https://files.pythonhosted.org/packages/cd/e5/af35f7ea75cf72f2cd079c95ee16797de7cd71f29ea7c68ae5ce7be1eda0/PyYAML-6.0.1.tar.gz (125kB)\n",
            "\u001b[K    100% |████████████████████████████████| 133kB 6.8MB/s \n",
            "\u001b[?25hRequirement already satisfied: tqdm>=4.41.0 in /usr/local/lib/python3.6/site-packages (from pytorch-lightning==0.8.1)\n",
            "Collecting future>=0.17.1 (from pytorch-lightning==0.8.1)\n",
            "  Downloading https://files.pythonhosted.org/packages/da/71/ae30dadffc90b9006d77af76b393cb9dfbfc9629f339fc1574a1c52e6806/future-1.0.0-py3-none-any.whl (491kB)\n",
            "\u001b[K    100% |████████████████████████████████| 491kB 2.7MB/s \n",
            "\u001b[?25hCollecting tensorboard>=1.14 (from pytorch-lightning==0.8.1)\n",
            "  Downloading https://files.pythonhosted.org/packages/80/49/a5ec29886ef823718c8ae54ed0b3ad7e19066b5bf21cec5038427e6a04c4/tensorboard-2.10.1-py3-none-any.whl (5.9MB)\n",
            "\u001b[K    100% |████████████████████████████████| 5.9MB 226kB/s \n",
            "\u001b[?25hRequirement already satisfied: numpy>=1.15 in /usr/local/lib/python3.6/site-packages (from pytorch-lightning==0.8.1)\n",
            "Requirement already satisfied: typing-extensions in /usr/local/lib/python3.6/site-packages (from torch>=1.3->pytorch-lightning==0.8.1)\n",
            "Requirement already satisfied: dataclasses; python_version < \"3.7\" in /usr/local/lib/python3.6/site-packages (from torch>=1.3->pytorch-lightning==0.8.1)\n",
            "Requirement already satisfied: importlib-resources; python_version < \"3.7\" in /usr/local/lib/python3.6/site-packages (from tqdm>=4.41.0->pytorch-lightning==0.8.1)\n",
            "Collecting google-auth-oauthlib<0.5,>=0.4.1 (from tensorboard>=1.14->pytorch-lightning==0.8.1)\n",
            "  Downloading https://files.pythonhosted.org/packages/b1/0e/0636cc1448a7abc444fb1b3a63655e294e0d2d49092dc3de05241be6d43c/google_auth_oauthlib-0.4.6-py2.py3-none-any.whl\n",
            "Collecting tensorboard-data-server<0.7.0,>=0.6.0 (from tensorboard>=1.14->pytorch-lightning==0.8.1)\n",
            "  Downloading https://files.pythonhosted.org/packages/74/69/5747a957f95e2e1d252ca41476ae40ce79d70d38151d2e494feb7722860c/tensorboard_data_server-0.6.1-py3-none-any.whl\n",
            "Collecting absl-py>=0.4 (from tensorboard>=1.14->pytorch-lightning==0.8.1)\n",
            "  Downloading https://files.pythonhosted.org/packages/dd/87/de5c32fa1b1c6c3305d576e299801d8655c175ca9557019906247b994331/absl_py-1.4.0-py3-none-any.whl (126kB)\n",
            "\u001b[K    100% |████████████████████████████████| 133kB 9.5MB/s \n",
            "\u001b[?25hRequirement already satisfied: wheel>=0.26 in /usr/local/lib/python3.6/site-packages (from tensorboard>=1.14->pytorch-lightning==0.8.1)\n",
            "Collecting markdown>=2.6.8 (from tensorboard>=1.14->pytorch-lightning==0.8.1)\n",
            "  Downloading https://files.pythonhosted.org/packages/f3/df/ca72f352e15b6f8ce32b74af029f1189abffb906f7c137501ffe69c98a65/Markdown-3.3.7-py3-none-any.whl (97kB)\n",
            "\u001b[K    100% |████████████████████████████████| 102kB 11.9MB/s \n",
            "\u001b[?25hCollecting grpcio>=1.24.3 (from tensorboard>=1.14->pytorch-lightning==0.8.1)\n",
            "  Downloading https://files.pythonhosted.org/packages/81/9a/6b33e8d15850356772f0ee6489bc8346a7aa90f0c86733283e139740865e/grpcio-1.48.2.tar.gz (22.0MB)\n",
            "\u001b[K    100% |████████████████████████████████| 22.0MB 63kB/s \n",
            "\u001b[?25hRequirement already satisfied: requests<3,>=2.21.0 in /usr/local/lib/python3.6/site-packages (from tensorboard>=1.14->pytorch-lightning==0.8.1)\n",
            "Collecting werkzeug>=1.0.1 (from tensorboard>=1.14->pytorch-lightning==0.8.1)\n",
            "  Downloading https://files.pythonhosted.org/packages/f4/f3/22afbdb20cc4654b10c98043414a14057cd27fdba9d4ae61cea596000ba2/Werkzeug-2.0.3-py3-none-any.whl (289kB)\n",
            "\u001b[K    100% |████████████████████████████████| 296kB 3.3MB/s \n",
            "\u001b[?25hCollecting protobuf<3.20,>=3.9.2 (from tensorboard>=1.14->pytorch-lightning==0.8.1)\n",
            "  Downloading https://files.pythonhosted.org/packages/32/27/1141a8232723dcb10a595cc0ce4321dcbbd5215300bf4acfc142343205bf/protobuf-3.19.6-py2.py3-none-any.whl (162kB)\n",
            "\u001b[K    100% |████████████████████████████████| 163kB 5.5MB/s \n",
            "\u001b[?25hCollecting tensorboard-plugin-wit>=1.6.0 (from tensorboard>=1.14->pytorch-lightning==0.8.1)\n",
            "  Downloading https://files.pythonhosted.org/packages/e0/68/e8ecfac5dd594b676c23a7f07ea34c197d7d69b3313afdf8ac1b0a9905a2/tensorboard_plugin_wit-1.8.1-py3-none-any.whl (781kB)\n",
            "\u001b[K    100% |████████████████████████████████| 788kB 1.8MB/s \n",
            "\u001b[?25hRequirement already satisfied: setuptools>=41.0.0 in /usr/local/lib/python3.6/site-packages (from tensorboard>=1.14->pytorch-lightning==0.8.1)\n",
            "Collecting google-auth<3,>=1.6.3 (from tensorboard>=1.14->pytorch-lightning==0.8.1)\n",
            "  Downloading https://files.pythonhosted.org/packages/9c/8d/bff87fc722553a5691d8514da5523c23547f3894189ba03b57592e37bdc2/google_auth-2.22.0-py2.py3-none-any.whl (181kB)\n",
            "\u001b[K    100% |████████████████████████████████| 184kB 7.2MB/s \n",
            "\u001b[?25hRequirement already satisfied: zipp>=3.1.0; python_version < \"3.10\" in /usr/local/lib/python3.6/site-packages (from importlib-resources; python_version < \"3.7\"->tqdm>=4.41.0->pytorch-lightning==0.8.1)\n",
            "Collecting requests-oauthlib>=0.7.0 (from google-auth-oauthlib<0.5,>=0.4.1->tensorboard>=1.14->pytorch-lightning==0.8.1)\n",
            "  Downloading https://files.pythonhosted.org/packages/3b/5d/63d4ae3b9daea098d5d6f5da83984853c1bbacd5dc826764b249fe119d24/requests_oauthlib-2.0.0-py2.py3-none-any.whl\n",
            "Requirement already satisfied: importlib-metadata>=4.4; python_version < \"3.10\" in /usr/local/lib/python3.6/site-packages (from markdown>=2.6.8->tensorboard>=1.14->pytorch-lightning==0.8.1)\n",
            "Requirement already satisfied: six>=1.5.2 in /usr/local/lib/python3.6/site-packages (from grpcio>=1.24.3->tensorboard>=1.14->pytorch-lightning==0.8.1)\n",
            "Requirement already satisfied: urllib3<1.27,>=1.21.1 in /usr/local/lib/python3.6/site-packages (from requests<3,>=2.21.0->tensorboard>=1.14->pytorch-lightning==0.8.1)\n",
            "Requirement already satisfied: charset-normalizer~=2.0.0; python_version >= \"3\" in /usr/local/lib/python3.6/site-packages (from requests<3,>=2.21.0->tensorboard>=1.14->pytorch-lightning==0.8.1)\n",
            "Requirement already satisfied: certifi>=2017.4.17 in /usr/local/lib/python3.6/site-packages (from requests<3,>=2.21.0->tensorboard>=1.14->pytorch-lightning==0.8.1)\n",
            "Requirement already satisfied: idna<4,>=2.5; python_version >= \"3\" in /usr/local/lib/python3.6/site-packages (from requests<3,>=2.21.0->tensorboard>=1.14->pytorch-lightning==0.8.1)\n",
            "Collecting cachetools<6.0,>=2.0.0 (from google-auth<3,>=1.6.3->tensorboard>=1.14->pytorch-lightning==0.8.1)\n",
            "  Downloading https://files.pythonhosted.org/packages/ea/c1/4740af52db75e6dbdd57fc7e9478439815bbac549c1c05881be27d19a17d/cachetools-4.2.4-py3-none-any.whl\n",
            "Collecting pyasn1-modules>=0.2.1 (from google-auth<3,>=1.6.3->tensorboard>=1.14->pytorch-lightning==0.8.1)\n",
            "  Downloading https://files.pythonhosted.org/packages/cd/8e/bea464350e1b8c6ed0da3a312659cb648804a08af6cacc6435867f74f8bd/pyasn1_modules-0.3.0-py2.py3-none-any.whl (181kB)\n",
            "\u001b[K    100% |████████████████████████████████| 184kB 7.5MB/s \n",
            "\u001b[?25hCollecting rsa<5,>=3.1.4 (from google-auth<3,>=1.6.3->tensorboard>=1.14->pytorch-lightning==0.8.1)\n",
            "  Downloading https://files.pythonhosted.org/packages/49/97/fa78e3d2f65c02c8e1268b9aba606569fe97f6c8f7c2d74394553347c145/rsa-4.9-py3-none-any.whl\n",
            "Collecting oauthlib>=3.0.0 (from requests-oauthlib>=0.7.0->google-auth-oauthlib<0.5,>=0.4.1->tensorboard>=1.14->pytorch-lightning==0.8.1)\n",
            "  Downloading https://files.pythonhosted.org/packages/7e/80/cab10959dc1faead58dc8384a781dfbf93cb4d33d50988f7a69f1b7c9bbe/oauthlib-3.2.2-py3-none-any.whl (151kB)\n",
            "\u001b[K    100% |████████████████████████████████| 153kB 8.9MB/s \n",
            "\u001b[?25hCollecting pyasn1<0.6.0,>=0.4.6 (from pyasn1-modules>=0.2.1->google-auth<3,>=1.6.3->tensorboard>=1.14->pytorch-lightning==0.8.1)\n",
            "  Downloading https://files.pythonhosted.org/packages/d1/75/4686d2872bf2fc0b37917cbc8bbf0dd3a5cdb0990799be1b9cbf1e1eb733/pyasn1-0.5.1-py2.py3-none-any.whl (84kB)\n",
            "\u001b[K    100% |████████████████████████████████| 92kB 9.2MB/s \n",
            "\u001b[?25hBuilding wheels for collected packages: PyYAML, grpcio\n",
            "  Running setup.py bdist_wheel for PyYAML ... \u001b[?25ldone\n",
            "\u001b[?25h  Stored in directory: /root/.cache/pip/wheels/e6/c6/ef/4e8ee93f1b79fc90562f1600d47189799f8213023d9dadafa2\n",
            "  Running setup.py bdist_wheel for grpcio ... \u001b[?25ldone\n",
            "\u001b[?25h  Stored in directory: /root/.cache/pip/wheels/71/8a/35/35a0c3898eb788c68c9ec81b41b840f7165375ede46eb3e5cc\n",
            "Successfully built PyYAML grpcio\n",
            "Installing collected packages: torch, PyYAML, future, cachetools, pyasn1, pyasn1-modules, rsa, google-auth, oauthlib, requests-oauthlib, google-auth-oauthlib, tensorboard-data-server, absl-py, markdown, grpcio, werkzeug, protobuf, tensorboard-plugin-wit, tensorboard, pytorch-lightning\n",
            "Successfully installed PyYAML-6.0.1 absl-py-1.4.0 cachetools-4.2.4 future-1.0.0 google-auth-2.22.0 google-auth-oauthlib-0.4.6 grpcio-1.48.2 markdown-3.3.7 oauthlib-3.2.2 protobuf-3.19.6 pyasn1-0.5.1 pyasn1-modules-0.3.0 pytorch-lightning-0.8.1 requests-oauthlib-2.0.0 rsa-4.9 tensorboard-2.10.1 tensorboard-data-server-0.6.1 tensorboard-plugin-wit-1.8.1 torch-1.10.2 werkzeug-2.0.3\n",
            "Collecting torch==1.5.1\n",
            "  Downloading https://files.pythonhosted.org/packages/62/01/457b49d790b6c4b9720e6f9dbbb617692f6ce8afdaadf425c055c41a7416/torch-1.5.1-cp36-cp36m-manylinux1_x86_64.whl (753.2MB)\n",
            "\u001b[K    100% |████████████████████████████████| 753.2MB 1.5kB/s \n",
            "\u001b[?25hRequirement already satisfied: future in /usr/local/lib/python3.6/site-packages (from torch==1.5.1)\n",
            "Requirement already satisfied: numpy in /usr/local/lib/python3.6/site-packages (from torch==1.5.1)\n",
            "Installing collected packages: torch\n",
            "  Found existing installation: torch 1.10.2\n",
            "    Uninstalling torch-1.10.2:\n",
            "      Successfully uninstalled torch-1.10.2\n",
            "Successfully installed torch-1.5.1\n",
            "Collecting bert-score==0.3.3\n",
            "  Downloading https://files.pythonhosted.org/packages/95/66/a6210213e3f8e5d52f665d35a435310c11e6d69229b4eb90022e89f3e5d2/bert_score-0.3.3-py3-none-any.whl (52kB)\n",
            "\u001b[K    100% |████████████████████████████████| 61kB 5.2MB/s \n",
            "\u001b[?25hCollecting pandas>=1.0.1 (from bert-score==0.3.3)\n",
            "  Downloading https://files.pythonhosted.org/packages/c3/e2/00cacecafbab071c787019f00ad84ca3185952f6bb9bca9550ed83870d4d/pandas-1.1.5-cp36-cp36m-manylinux1_x86_64.whl (9.5MB)\n",
            "\u001b[K    100% |████████████████████████████████| 9.5MB 147kB/s \n",
            "\u001b[?25hRequirement already satisfied: requests in /usr/local/lib/python3.6/site-packages (from bert-score==0.3.3)\n",
            "Requirement already satisfied: tqdm>=4.31.1 in /usr/local/lib/python3.6/site-packages (from bert-score==0.3.3)\n",
            "Requirement already satisfied: transformers>=2.2.0 in /usr/local/lib/python3.6/site-packages (from bert-score==0.3.3)\n",
            "Requirement already satisfied: torch>=1.0.0 in /usr/local/lib/python3.6/site-packages (from bert-score==0.3.3)\n",
            "Requirement already satisfied: numpy in /usr/local/lib/python3.6/site-packages (from bert-score==0.3.3)\n",
            "Collecting matplotlib (from bert-score==0.3.3)\n",
            "  Downloading https://files.pythonhosted.org/packages/09/03/b7b30fa81cb687d1178e085d0f01111ceaea3bf81f9330c937fb6f6c8ca0/matplotlib-3.3.4-cp36-cp36m-manylinux1_x86_64.whl (11.5MB)\n",
            "\u001b[K    100% |████████████████████████████████| 11.5MB 117kB/s \n",
            "\u001b[?25hCollecting pytz>=2017.2 (from pandas>=1.0.1->bert-score==0.3.3)\n",
            "  Downloading https://files.pythonhosted.org/packages/9c/3d/a121f284241f08268b21359bd425f7d4825cffc5ac5cd0e1b3d82ffd2b10/pytz-2024.1-py2.py3-none-any.whl (505kB)\n",
            "\u001b[K    100% |████████████████████████████████| 512kB 3.0MB/s \n",
            "\u001b[?25hRequirement already satisfied: python-dateutil>=2.7.3 in /usr/local/lib/python3.6/site-packages (from pandas>=1.0.1->bert-score==0.3.3)\n",
            "Requirement already satisfied: certifi>=2017.4.17 in /usr/local/lib/python3.6/site-packages (from requests->bert-score==0.3.3)\n",
            "Requirement already satisfied: idna<4,>=2.5; python_version >= \"3\" in /usr/local/lib/python3.6/site-packages (from requests->bert-score==0.3.3)\n",
            "Requirement already satisfied: charset-normalizer~=2.0.0; python_version >= \"3\" in /usr/local/lib/python3.6/site-packages (from requests->bert-score==0.3.3)\n",
            "Requirement already satisfied: urllib3<1.27,>=1.21.1 in /usr/local/lib/python3.6/site-packages (from requests->bert-score==0.3.3)\n",
            "Requirement already satisfied: importlib-resources; python_version < \"3.7\" in /usr/local/lib/python3.6/site-packages (from tqdm>=4.31.1->bert-score==0.3.3)\n",
            "Requirement already satisfied: filelock in /usr/local/lib/python3.6/site-packages (from transformers>=2.2.0->bert-score==0.3.3)\n",
            "Requirement already satisfied: sacremoses in /usr/local/lib/python3.6/site-packages (from transformers>=2.2.0->bert-score==0.3.3)\n",
            "Requirement already satisfied: dataclasses; python_version < \"3.7\" in /usr/local/lib/python3.6/site-packages (from transformers>=2.2.0->bert-score==0.3.3)\n",
            "Requirement already satisfied: sentencepiece in /usr/local/lib/python3.6/site-packages (from transformers>=2.2.0->bert-score==0.3.3)\n",
            "Requirement already satisfied: tokenizers==0.7.0 in /usr/local/lib/python3.6/site-packages (from transformers>=2.2.0->bert-score==0.3.3)\n",
            "Requirement already satisfied: regex!=2019.12.17 in /usr/local/lib/python3.6/site-packages (from transformers>=2.2.0->bert-score==0.3.3)\n",
            "Requirement already satisfied: future in /usr/local/lib/python3.6/site-packages (from torch>=1.0.0->bert-score==0.3.3)\n",
            "Requirement already satisfied: pyparsing!=2.0.4,!=2.1.2,!=2.1.6,>=2.0.3 in /usr/local/lib/python3.6/site-packages (from matplotlib->bert-score==0.3.3)\n",
            "Collecting kiwisolver>=1.0.1 (from matplotlib->bert-score==0.3.3)\n",
            "  Downloading https://files.pythonhosted.org/packages/a7/1b/cbd8ae738719b5f41592a12057ef5442e2ed5f5cb5451f8fc7e9f8875a1a/kiwisolver-1.3.1-cp36-cp36m-manylinux1_x86_64.whl (1.1MB)\n",
            "\u001b[K    100% |████████████████████████████████| 1.1MB 1.2MB/s \n",
            "\u001b[?25hCollecting pillow>=6.2.0 (from matplotlib->bert-score==0.3.3)\n",
            "  Downloading https://files.pythonhosted.org/packages/7d/2a/2fc11b54e2742db06297f7fa7f420a0e3069fdcf0e4b57dfec33f0b08622/Pillow-8.4.0.tar.gz (49.4MB)\n",
            "\u001b[K    100% |████████████████████████████████| 49.4MB 27kB/s \n",
            "\u001b[?25hCollecting cycler>=0.10 (from matplotlib->bert-score==0.3.3)\n",
            "  Downloading https://files.pythonhosted.org/packages/5c/f9/695d6bedebd747e5eb0fe8fad57b72fdf25411273a39791cde838d5a8f51/cycler-0.11.0-py3-none-any.whl\n",
            "Requirement already satisfied: six>=1.5 in /usr/local/lib/python3.6/site-packages (from python-dateutil>=2.7.3->pandas>=1.0.1->bert-score==0.3.3)\n",
            "Requirement already satisfied: zipp>=3.1.0; python_version < \"3.10\" in /usr/local/lib/python3.6/site-packages (from importlib-resources; python_version < \"3.7\"->tqdm>=4.31.1->bert-score==0.3.3)\n",
            "Requirement already satisfied: joblib in /usr/local/lib/python3.6/site-packages (from sacremoses->transformers>=2.2.0->bert-score==0.3.3)\n",
            "Requirement already satisfied: click in /usr/local/lib/python3.6/site-packages (from sacremoses->transformers>=2.2.0->bert-score==0.3.3)\n",
            "Requirement already satisfied: importlib-metadata; python_version < \"3.8\" in /usr/local/lib/python3.6/site-packages (from click->sacremoses->transformers>=2.2.0->bert-score==0.3.3)\n",
            "Requirement already satisfied: typing-extensions>=3.6.4; python_version < \"3.8\" in /usr/local/lib/python3.6/site-packages (from importlib-metadata; python_version < \"3.8\"->click->sacremoses->transformers>=2.2.0->bert-score==0.3.3)\n",
            "Building wheels for collected packages: pillow\n",
            "  Running setup.py bdist_wheel for pillow ... \u001b[?25ldone\n",
            "\u001b[?25h  Stored in directory: /root/.cache/pip/wheels/a7/69/9a/bba9fca6782340f88dbc378893095722a663cbc618e58fe401\n",
            "Successfully built pillow\n",
            "Installing collected packages: pytz, pandas, kiwisolver, pillow, cycler, matplotlib, bert-score\n",
            "Successfully installed bert-score-0.3.3 cycler-0.11.0 kiwisolver-1.3.1 matplotlib-3.3.4 pandas-1.1.5 pillow-8.4.0 pytz-2024.1\n",
            "Collecting sacrebleu==1.4.12\n",
            "  Downloading https://files.pythonhosted.org/packages/66/5b/cf661da8e9b0229f5d98c2961b072a5728fd11a0758957f8c0fd36081c06/sacrebleu-1.4.12-py3-none-any.whl (54kB)\n",
            "\u001b[K    100% |████████████████████████████████| 61kB 5.4MB/s \n",
            "\u001b[?25hCollecting portalocker (from sacrebleu==1.4.12)\n",
            "  Downloading https://files.pythonhosted.org/packages/8c/df/d4f711d168524f5aebd7fb30969eaa31e3048cf8979688cde3b08f6e5eb8/portalocker-2.7.0-py2.py3-none-any.whl\n",
            "Collecting mecab-python3==0.996.5 (from sacrebleu==1.4.12)\n",
            "  Downloading https://files.pythonhosted.org/packages/3e/65/98b9101d9b37d01ec205a4eb2f7bc085e1828302a9500bc8326b9daf7163/mecab_python3-0.996.5-cp36-cp36m-manylinux1_x86_64.whl (15.9MB)\n",
            "\u001b[K    100% |████████████████████████████████| 15.9MB 82kB/s \n",
            "\u001b[?25hInstalling collected packages: portalocker, mecab-python3, sacrebleu\n",
            "Successfully installed mecab-python3-0.996.5 portalocker-2.7.0 sacrebleu-1.4.12\n",
            "Collecting moverscore==1.0.3\n",
            "  Downloading https://files.pythonhosted.org/packages/d7/66/5ac942903a4d2d316f6c1df716e047e34fb0f9bfc7e70d44dab995708e9d/moverscore-1.0.3.tar.gz\n",
            "Collecting typing (from moverscore==1.0.3)\n",
            "  Downloading https://files.pythonhosted.org/packages/05/d9/6eebe19d46bd05360c9a9aae822e67a80f9242aabbfc58b641b957546607/typing-3.7.4.3.tar.gz (78kB)\n",
            "\u001b[K    100% |████████████████████████████████| 81kB 5.3MB/s \n",
            "\u001b[?25hRequirement already satisfied: portalocker in /usr/local/lib/python3.6/site-packages (from moverscore==1.0.3)\n",
            "Building wheels for collected packages: moverscore, typing\n",
            "  Running setup.py bdist_wheel for moverscore ... \u001b[?25ldone\n",
            "\u001b[?25h  Stored in directory: /root/.cache/pip/wheels/79/1b/3b/146bc744eef28d6c091b864fac8b76a7ffec5a694776c105f1\n",
            "  Running setup.py bdist_wheel for typing ... \u001b[?25ldone\n",
            "\u001b[?25h  Stored in directory: /root/.cache/pip/wheels/2d/04/41/8e1836e79581989c22eebac3f4e70aaac9af07b0908da173be\n",
            "Successfully built moverscore typing\n",
            "Installing collected packages: typing, moverscore\n",
            "Successfully installed moverscore-1.0.3 typing-3.7.4.3\n",
            "Collecting pyemd\n",
            "  Downloading https://files.pythonhosted.org/packages/c0/c5/7fea8e7a71cd026b30ed3c40e4c5ea13a173e28f8855da17e25271e8f545/pyemd-0.5.1.tar.gz (91kB)\n",
            "\u001b[K    100% |████████████████████████████████| 92kB 4.3MB/s \n",
            "\u001b[?25hRequirement already satisfied: numpy<2.0.0,>=1.9.0 in /usr/local/lib/python3.6/site-packages (from pyemd)\n",
            "Building wheels for collected packages: pyemd\n",
            "  Running setup.py bdist_wheel for pyemd ... \u001b[?25ldone\n",
            "\u001b[?25h  Stored in directory: /root/.cache/pip/wheels/e4/ba/b0/1f4178a35c916b22fc51dc56f278125d4b8cfb0592e5f0cc24\n",
            "Successfully built pyemd\n",
            "Installing collected packages: pyemd\n",
            "Successfully installed pyemd-0.5.1\n"
          ]
        }
      ]
    },
    {
      "cell_type": "code",
      "source": [
        "! git clone https://github.com/google-research/bleurt.git\n",
        "%cd bleurt\n",
        "! pip install .\n",
        "%cd .."
      ],
      "metadata": {
        "colab": {
          "base_uri": "https://localhost:8080/"
        },
        "id": "sB04VgmO5WNd",
        "outputId": "06c22d7f-dced-401f-c2e2-d6038b1af7df"
      },
      "execution_count": null,
      "outputs": [
        {
          "output_type": "stream",
          "name": "stdout",
          "text": [
            "Cloning into 'bleurt'...\n",
            "remote: Enumerating objects: 134, done.\u001b[K\n",
            "remote: Counting objects: 100% (18/18), done.\u001b[K\n",
            "remote: Compressing objects: 100% (18/18), done.\u001b[K\n",
            "remote: Total 134 (delta 0), reused 17 (delta 0), pack-reused 116\u001b[K\n",
            "Receiving objects: 100% (134/134), 31.28 MiB | 23.85 MiB/s, done.\n",
            "Resolving deltas: 100% (49/49), done.\n",
            "/content/SciGen/baselines/bleurt\n",
            "Processing /content/SciGen/baselines/bleurt\n",
            "Requirement already satisfied: pandas in /usr/local/lib/python3.6/site-packages (from BLEURT==0.0.2)\n",
            "Requirement already satisfied: numpy in /usr/local/lib/python3.6/site-packages (from BLEURT==0.0.2)\n",
            "Collecting scipy (from BLEURT==0.0.2)\n",
            "  Downloading https://files.pythonhosted.org/packages/c8/89/63171228d5ced148f5ced50305c89e8576ffc695a90b58fe5bb602b910c2/scipy-1.5.4-cp36-cp36m-manylinux1_x86_64.whl (25.9MB)\n",
            "\u001b[K    100% |████████████████████████████████| 25.9MB 52kB/s \n",
            "\u001b[?25hCollecting tensorflow (from BLEURT==0.0.2)\n",
            "  Downloading https://files.pythonhosted.org/packages/de/f0/96fb2e0412ae9692dbf400e5b04432885f677ad6241c088ccc5fe7724d69/tensorflow-1.14.0-cp36-cp36m-manylinux1_x86_64.whl (109.2MB)\n",
            "\u001b[K    100% |████████████████████████████████| 109.2MB 12kB/s \n",
            "\u001b[?25hCollecting tf-slim>=1.1 (from BLEURT==0.0.2)\n",
            "  Downloading https://files.pythonhosted.org/packages/02/97/b0f4a64df018ca018cc035d44f2ef08f91e2e8aa67271f6f19633a015ff7/tf_slim-1.1.0-py2.py3-none-any.whl (352kB)\n",
            "\u001b[K    100% |████████████████████████████████| 358kB 3.7MB/s \n",
            "\u001b[?25hRequirement already satisfied: sentencepiece in /usr/local/lib/python3.6/site-packages (from BLEURT==0.0.2)\n",
            "Requirement already satisfied: python-dateutil>=2.7.3 in /usr/local/lib/python3.6/site-packages (from pandas->BLEURT==0.0.2)\n",
            "Requirement already satisfied: pytz>=2017.2 in /usr/local/lib/python3.6/site-packages (from pandas->BLEURT==0.0.2)\n",
            "Requirement already satisfied: six>=1.10.0 in /usr/local/lib/python3.6/site-packages (from tensorflow->BLEURT==0.0.2)\n",
            "Collecting termcolor>=1.1.0 (from tensorflow->BLEURT==0.0.2)\n",
            "  Downloading https://files.pythonhosted.org/packages/8a/48/a76be51647d0eb9f10e2a4511bf3ffb8cc1e6b14e9e4fab46173aa79f981/termcolor-1.1.0.tar.gz\n",
            "Collecting keras-preprocessing>=1.0.5 (from tensorflow->BLEURT==0.0.2)\n",
            "  Downloading https://files.pythonhosted.org/packages/79/4c/7c3275a01e12ef9368a892926ab932b33bb13d55794881e3573482b378a7/Keras_Preprocessing-1.1.2-py2.py3-none-any.whl (42kB)\n",
            "\u001b[K    100% |████████████████████████████████| 51kB 11.3MB/s \n",
            "\u001b[?25hRequirement already satisfied: wheel>=0.26 in /usr/local/lib/python3.6/site-packages (from tensorflow->BLEURT==0.0.2)\n",
            "Requirement already satisfied: grpcio>=1.8.6 in /usr/local/lib/python3.6/site-packages (from tensorflow->BLEURT==0.0.2)\n",
            "Collecting tensorflow-estimator<1.15.0rc0,>=1.14.0rc0 (from tensorflow->BLEURT==0.0.2)\n",
            "  Downloading https://files.pythonhosted.org/packages/3c/d5/21860a5b11caf0678fbc8319341b0ae21a07156911132e0e71bffed0510d/tensorflow_estimator-1.14.0-py2.py3-none-any.whl (488kB)\n",
            "\u001b[K    100% |████████████████████████████████| 491kB 2.9MB/s \n",
            "\u001b[?25hRequirement already satisfied: protobuf>=3.6.1 in /usr/local/lib/python3.6/site-packages (from tensorflow->BLEURT==0.0.2)\n",
            "Collecting google-pasta>=0.1.6 (from tensorflow->BLEURT==0.0.2)\n",
            "  Downloading https://files.pythonhosted.org/packages/a3/de/c648ef6835192e6e2cc03f40b19eeda4382c49b5bafb43d88b931c4c74ac/google_pasta-0.2.0-py3-none-any.whl (57kB)\n",
            "\u001b[K    100% |████████████████████████████████| 61kB 10.7MB/s \n",
            "\u001b[?25hCollecting astor>=0.6.0 (from tensorflow->BLEURT==0.0.2)\n",
            "  Downloading https://files.pythonhosted.org/packages/c3/88/97eef84f48fa04fbd6750e62dcceafba6c63c81b7ac1420856c8dcc0a3f9/astor-0.8.1-py2.py3-none-any.whl\n",
            "Collecting tensorboard<1.15.0,>=1.14.0 (from tensorflow->BLEURT==0.0.2)\n",
            "  Downloading https://files.pythonhosted.org/packages/91/2d/2ed263449a078cd9c8a9ba50ebd50123adf1f8cfbea1492f9084169b89d9/tensorboard-1.14.0-py3-none-any.whl (3.1MB)\n",
            "\u001b[K    100% |████████████████████████████████| 3.2MB 442kB/s \n",
            "\u001b[?25hCollecting keras-applications>=1.0.6 (from tensorflow->BLEURT==0.0.2)\n",
            "  Downloading https://files.pythonhosted.org/packages/71/e3/19762fdfc62877ae9102edf6342d71b28fbfd9dea3d2f96a882ce099b03f/Keras_Applications-1.0.8-py3-none-any.whl (50kB)\n",
            "\u001b[K    100% |████████████████████████████████| 51kB 10.4MB/s \n",
            "\u001b[?25hCollecting wrapt>=1.11.1 (from tensorflow->BLEURT==0.0.2)\n",
            "  Downloading https://files.pythonhosted.org/packages/66/50/1c5ccb23dd63f8f3d312dc2d5e0e64c681faf7c2388fa1ab2553713cef11/wrapt-1.16.0-cp36-cp36m-manylinux_2_5_x86_64.manylinux1_x86_64.manylinux_2_17_x86_64.manylinux2014_x86_64.whl (77kB)\n",
            "\u001b[K    100% |████████████████████████████████| 81kB 11.2MB/s \n",
            "\u001b[?25hRequirement already satisfied: absl-py>=0.7.0 in /usr/local/lib/python3.6/site-packages (from tensorflow->BLEURT==0.0.2)\n",
            "Collecting gast>=0.2.0 (from tensorflow->BLEURT==0.0.2)\n",
            "  Downloading https://files.pythonhosted.org/packages/fa/39/5aae571e5a5f4de9c3445dae08a530498e5c53b0e74410eeeb0991c79047/gast-0.5.4-py3-none-any.whl\n",
            "Requirement already satisfied: werkzeug>=0.11.15 in /usr/local/lib/python3.6/site-packages (from tensorboard<1.15.0,>=1.14.0->tensorflow->BLEURT==0.0.2)\n",
            "Requirement already satisfied: markdown>=2.6.8 in /usr/local/lib/python3.6/site-packages (from tensorboard<1.15.0,>=1.14.0->tensorflow->BLEURT==0.0.2)\n",
            "Requirement already satisfied: setuptools>=41.0.0 in /usr/local/lib/python3.6/site-packages (from tensorboard<1.15.0,>=1.14.0->tensorflow->BLEURT==0.0.2)\n",
            "Collecting h5py (from keras-applications>=1.0.6->tensorflow->BLEURT==0.0.2)\n",
            "  Downloading https://files.pythonhosted.org/packages/70/7a/e53e500335afb6b1aade11227cdf107fca54106a1dca5c9d13242a043f3b/h5py-3.1.0-cp36-cp36m-manylinux1_x86_64.whl (4.0MB)\n",
            "\u001b[K    100% |████████████████████████████████| 4.0MB 342kB/s \n",
            "\u001b[?25hRequirement already satisfied: dataclasses; python_version < \"3.7\" in /usr/local/lib/python3.6/site-packages (from werkzeug>=0.11.15->tensorboard<1.15.0,>=1.14.0->tensorflow->BLEURT==0.0.2)\n",
            "Requirement already satisfied: importlib-metadata>=4.4; python_version < \"3.10\" in /usr/local/lib/python3.6/site-packages (from markdown>=2.6.8->tensorboard<1.15.0,>=1.14.0->tensorflow->BLEURT==0.0.2)\n",
            "Collecting cached-property; python_version < \"3.8\" (from h5py->keras-applications>=1.0.6->tensorflow->BLEURT==0.0.2)\n",
            "  Downloading https://files.pythonhosted.org/packages/48/19/f2090f7dad41e225c7f2326e4cfe6fff49e57dedb5b53636c9551f86b069/cached_property-1.5.2-py2.py3-none-any.whl\n",
            "Requirement already satisfied: zipp>=0.5 in /usr/local/lib/python3.6/site-packages (from importlib-metadata>=4.4; python_version < \"3.10\"->markdown>=2.6.8->tensorboard<1.15.0,>=1.14.0->tensorflow->BLEURT==0.0.2)\n",
            "Requirement already satisfied: typing-extensions>=3.6.4; python_version < \"3.8\" in /usr/local/lib/python3.6/site-packages (from importlib-metadata>=4.4; python_version < \"3.10\"->markdown>=2.6.8->tensorboard<1.15.0,>=1.14.0->tensorflow->BLEURT==0.0.2)\n",
            "Building wheels for collected packages: termcolor\n",
            "  Running setup.py bdist_wheel for termcolor ... \u001b[?25ldone\n",
            "\u001b[?25h  Stored in directory: /root/.cache/pip/wheels/7c/06/54/bc84598ba1daf8f970247f550b175aaaee85f68b4b0c5ab2c6\n",
            "Successfully built termcolor\n",
            "Installing collected packages: scipy, termcolor, keras-preprocessing, tensorflow-estimator, google-pasta, astor, tensorboard, cached-property, h5py, keras-applications, wrapt, gast, tensorflow, tf-slim, BLEURT\n",
            "  Found existing installation: tensorboard 2.10.1\n",
            "    Uninstalling tensorboard-2.10.1:\n",
            "      Successfully uninstalled tensorboard-2.10.1\n",
            "  Running setup.py install for BLEURT ... \u001b[?25ldone\n",
            "\u001b[?25hSuccessfully installed BLEURT-0.0.2 astor-0.8.1 cached-property-1.5.2 gast-0.5.4 google-pasta-0.2.0 h5py-3.1.0 keras-applications-1.0.8 keras-preprocessing-1.1.2 scipy-1.5.4 tensorboard-1.14.0 tensorflow-1.14.0 tensorflow-estimator-1.14.0 termcolor-1.1.0 tf-slim-1.1.0 wrapt-1.16.0\n",
            "/content/SciGen/baselines\n"
          ]
        }
      ]
    },
    {
      "cell_type": "markdown",
      "source": [
        "Clone the GitHub repo for SciGen"
      ],
      "metadata": {
        "id": "niBtXU5EzjB3"
      }
    },
    {
      "cell_type": "code",
      "source": [
        "!git clone https://github.com/UKPLab/SciGen.git"
      ],
      "metadata": {
        "colab": {
          "base_uri": "https://localhost:8080/"
        },
        "id": "WaqP0od_yNSO",
        "outputId": "b167f523-b203-4be3-c869-04eaa4e1de70"
      },
      "execution_count": null,
      "outputs": [
        {
          "output_type": "stream",
          "name": "stdout",
          "text": [
            "Cloning into 'SciGen'...\n",
            "remote: Enumerating objects: 479, done.\u001b[K\n",
            "remote: Counting objects: 100% (479/479), done.\u001b[K\n",
            "remote: Compressing objects: 100% (460/460), done.\u001b[K\n",
            "remote: Total 479 (delta 19), reused 454 (delta 11), pack-reused 0\u001b[K\n",
            "Receiving objects: 100% (479/479), 39.76 MiB | 20.07 MiB/s, done.\n",
            "Resolving deltas: 100% (19/19), done.\n"
          ]
        }
      ]
    },
    {
      "cell_type": "code",
      "source": [
        "!git clone https://github.com/mHarvey52/com4513_assignment.git"
      ],
      "metadata": {
        "colab": {
          "base_uri": "https://localhost:8080/"
        },
        "id": "pacXTPtRucSi",
        "outputId": "256791c5-1cbd-419d-cba9-1ad919a26995"
      },
      "execution_count": null,
      "outputs": [
        {
          "output_type": "stream",
          "name": "stdout",
          "text": [
            "Cloning into 'com4513_assignment'...\n",
            "remote: Enumerating objects: 6, done.\u001b[K\n",
            "remote: Counting objects: 100% (6/6), done.\u001b[K\n",
            "remote: Compressing objects: 100% (4/4), done.\u001b[K\n",
            "remote: Total 6 (delta 0), reused 0 (delta 0), pack-reused 0\u001b[K\n",
            "Receiving objects: 100% (6/6), 12.58 KiB | 6.29 MiB/s, done.\n"
          ]
        }
      ]
    },
    {
      "cell_type": "markdown",
      "source": [
        "Running baselines"
      ],
      "metadata": {
        "id": "Tp333EQn5um6"
      }
    },
    {
      "cell_type": "code",
      "source": [
        "%cd SciGen/baselines"
      ],
      "metadata": {
        "colab": {
          "base_uri": "https://localhost:8080/"
        },
        "id": "CoNPBn4I5tpy",
        "outputId": "a3af03ec-441a-4da3-ba70-ea788f61de57"
      },
      "execution_count": null,
      "outputs": [
        {
          "output_type": "stream",
          "name": "stdout",
          "text": [
            "/content/SciGen/baselines\n"
          ]
        }
      ]
    },
    {
      "cell_type": "code",
      "source": [
        "!python convert_json_files.py -f ../dataset/train/few-shot/train.json -s train\n",
        "!python convert_json_files.py -f ../dataset/development/few-shot/dev.json -s dev\n",
        "!python convert_json_files.py -f ../dataset/test/test-CL.json -s test"
      ],
      "metadata": {
        "id": "OzbHX1HMzokC",
        "colab": {
          "base_uri": "https://localhost:8080/"
        },
        "outputId": "dc127945-17d6-4ef5-dd29-04e6d151ee54"
      },
      "execution_count": 1,
      "outputs": [
        {
          "output_type": "stream",
          "name": "stdout",
          "text": [
            "python3: can't open file '/content/convert_json_files.py': [Errno 2] No such file or directory\n",
            "python3: can't open file '/content/convert_json_files.py': [Errno 2] No such file or directory\n",
            "python3: can't open file '/content/convert_json_files.py': [Errno 2] No such file or directory\n"
          ]
        }
      ]
    },
    {
      "cell_type": "code",
      "source": [
        "!mkdir output_train_few_shot\n",
        "!mkdir data_few_shot"
      ],
      "metadata": {
        "id": "eEp5DoA555Mk"
      },
      "execution_count": null,
      "outputs": []
    },
    {
      "cell_type": "code",
      "source": [
        "!mv train.* data_few_shot/\n",
        "!mv dev.* data_few_shot/\n",
        "!mv test.* data_few_shot/"
      ],
      "metadata": {
        "id": "Gr220jjz6G4a"
      },
      "execution_count": null,
      "outputs": []
    },
    {
      "cell_type": "code",
      "source": [
        "!python train_table2text_bart.py \\\n",
        "--data_dir=data_few_shot \\\n",
        "--model_name_or_path=facebook/bart-base \\\n",
        "--learning_rate=3e-5 \\\n",
        "--num_train_epochs 30 \\\n",
        "--train_batch_size=8 \\\n",
        "--eval_batch_size=4 \\\n",
        "--test_batch_size=4 \\\n",
        "--output_dir=output_train_few_shot_bart \\\n",
        "--n_gpu 1 \\\n",
        "--do_train \\\n",
        "--do_predict \\\n",
        "--early_stopping_patience 10 \\\n",
        "--max_source_length 384 \\\n",
        "--max_target_length 384"
      ],
      "metadata": {
        "colab": {
          "base_uri": "https://localhost:8080/"
        },
        "id": "OlQ3TXtw6PV5",
        "outputId": "028ee767-d90b-4305-9ae0-db3cf36e0fa7"
      },
      "execution_count": 2,
      "outputs": [
        {
          "output_type": "stream",
          "name": "stdout",
          "text": [
            "python3: can't open file '/content/train_table2text_bart.py': [Errno 2] No such file or directory\n"
          ]
        }
      ]
    },
    {
      "cell_type": "code",
      "source": [
        "!python train_table2text_t5.py \\\n",
        "--data_dir=data_few_shot \\\n",
        "--model_name_or_path=base-t5 \\\n",
        "--learning_rate=3e-5 \\\n",
        "--num_train_epochs 30 \\\n",
        "--train_batch_size=4 \\\n",
        "--eval_batch_size=4 \\\n",
        "--test_batch_size=4 \\\n",
        "--output_dir=output_train_few_shot_t5 \\\n",
        "--n_gpu 1 \\\n",
        "--do_train \\\n",
        "--do_predict \\\n",
        "--early_stopping_patience 10 \\\n",
        "--max_source_length 384 \\\n",
        "--max_target_length 384"
      ],
      "metadata": {
        "id": "3DCFPsyzleu9"
      },
      "execution_count": null,
      "outputs": []
    },
    {
      "cell_type": "code",
      "source": [
        "!git add ."
      ],
      "metadata": {
        "id": "s9GXdr1u6bug",
        "colab": {
          "base_uri": "https://localhost:8080/"
        },
        "outputId": "66ed0a65-554f-4f97-eff5-13f2d2b46873"
      },
      "execution_count": null,
      "outputs": [
        {
          "output_type": "stream",
          "name": "stdout",
          "text": [
            "^C\n"
          ]
        }
      ]
    },
    {
      "cell_type": "code",
      "source": [
        "from google.colab import drive\n",
        "drive.mount('/content/drive')"
      ],
      "metadata": {
        "id": "4HMAAIdUN71H",
        "outputId": "cbdb7bdb-f6ab-4727-eb66-874d257acfd9",
        "colab": {
          "base_uri": "https://localhost:8080/"
        }
      },
      "execution_count": null,
      "outputs": [
        {
          "output_type": "stream",
          "name": "stdout",
          "text": [
            "Mounted at /content/drive\n"
          ]
        }
      ]
    },
    {
      "cell_type": "code",
      "source": [
        "import os\n",
        "from google.colab import drive\n",
        "\n",
        "# Mount Google Drive\n",
        "#drive.mount('/content/drive')\n",
        "\n",
        "# Create a folder in the root directory\n",
        "#!mkdir -p \"/content/drive/My Drive/NLP/baselines/output_train_few_shot\"\n",
        "\n",
        "import shutil\n",
        "\n",
        "source_dir = r\"/content/SciGen/baselines/output_train_few_shot_t5\"\n",
        "destination_dir = r\"/content/drive/My Drive/NLP/SciGen/baselines/output_train_few_shot_t5\"\n",
        "shutil.copytree(source_dir, destination_dir)\n"
      ],
      "metadata": {
        "id": "6uYZBMmwOVCE",
        "outputId": "2a159e35-fc8a-4731-ba85-5b3f8fbfe1b3",
        "colab": {
          "base_uri": "https://localhost:8080/",
          "height": 35
        }
      },
      "execution_count": null,
      "outputs": [
        {
          "output_type": "execute_result",
          "data": {
            "text/plain": [
              "'/content/drive/My Drive/NLP/SciGen/baselines/output_train_few_shot_t5'"
            ],
            "application/vnd.google.colaboratory.intrinsic+json": {
              "type": "string"
            }
          },
          "metadata": {},
          "execution_count": 19
        }
      ]
    },
    {
      "cell_type": "code",
      "source": [],
      "metadata": {
        "id": "Hzp4MAOWDaE0",
        "outputId": "ab2aaa78-3bba-4742-bd4d-1b900c754b42",
        "colab": {
          "base_uri": "https://localhost:8080/"
        }
      },
      "execution_count": null,
      "outputs": [
        {
          "output_type": "stream",
          "name": "stdout",
          "text": [
            "\u001b[0m\u001b[01;34mbleurt\u001b[0m/                evaluate.py                \u001b[01;34m__pycache__\u001b[0m/              utils.py\n",
            "callbacks.py           lightning_base.py          README.md\n",
            "convert_json_files.py  \u001b[01;34mlightning_logs\u001b[0m/            train_table2text_bart.py\n",
            "\u001b[01;34mdata_few_shot\u001b[0m/         \u001b[01;34moutput_train_few_shot_t5\u001b[0m/  train_table2text_t5.py\n"
          ]
        }
      ]
    },
    {
      "cell_type": "code",
      "source": [
        "!python evaluate.py \\\n",
        "--pred=output_train_few_shot_t5/validation_predictions_30.txt \\\n",
        "--sys=output_train_few_shot_t5/validation_targets_30.txt"
      ],
      "metadata": {
        "id": "rM1AcK6OAh5O",
        "outputId": "a308b449-82df-43a2-889e-2dbcdd295063",
        "colab": {
          "base_uri": "https://localhost:8080/"
        }
      },
      "execution_count": null,
      "outputs": [
        {
          "output_type": "stream",
          "name": "stdout",
          "text": [
            "Traceback (most recent call last):\n",
            "  File \"evaluate.py\", line 6, in <module>\n",
            "    from moverscore_v2 import get_idf_dict, word_mover_score\n",
            "  File \"/usr/local/lib/python3.6/site-packages/moverscore_v2.py\", line 5, in <module>\n",
            "    from pyemd import emd, emd_with_flow\n",
            "  File \"/usr/local/lib/python3.6/site-packages/pyemd/__init__.py\", line 75, in <module>\n",
            "    from .emd import emd, emd_with_flow, emd_samples\n",
            "ImportError: /usr/local/lib/python3.6/site-packages/pyemd/emd.cpython-36m-x86_64-linux-gnu.so: undefined symbol: _ZSt28__throw_bad_array_new_lengthv\n"
          ]
        }
      ]
    },
    {
      "cell_type": "code",
      "source": [
        "pip install nltk"
      ],
      "metadata": {
        "id": "xuU9QovxAjoV",
        "outputId": "27c3230c-057b-4bd0-e1ba-f90d076e470e",
        "colab": {
          "base_uri": "https://localhost:8080/"
        }
      },
      "execution_count": null,
      "outputs": [
        {
          "output_type": "stream",
          "name": "stdout",
          "text": [
            "Collecting nltk\n",
            "  Downloading https://files.pythonhosted.org/packages/c5/ea/84c7247f5c96c5a1b619fe822fb44052081ccfbe487a49d4c888306adec7/nltk-3.6.7-py3-none-any.whl (1.5MB)\n",
            "\u001b[K    100% |████████████████████████████████| 1.5MB 918kB/s \n",
            "\u001b[?25hRequirement already satisfied: click in /usr/local/lib/python3.6/site-packages (from nltk)\n",
            "Requirement already satisfied: tqdm in /usr/local/lib/python3.6/site-packages (from nltk)\n",
            "Requirement already satisfied: regex>=2021.8.3 in /usr/local/lib/python3.6/site-packages (from nltk)\n",
            "Requirement already satisfied: joblib in /usr/local/lib/python3.6/site-packages (from nltk)\n",
            "Requirement already satisfied: importlib-metadata; python_version < \"3.8\" in /usr/local/lib/python3.6/site-packages (from click->nltk)\n",
            "Requirement already satisfied: importlib-resources; python_version < \"3.7\" in /usr/local/lib/python3.6/site-packages (from tqdm->nltk)\n",
            "Requirement already satisfied: zipp>=0.5 in /usr/local/lib/python3.6/site-packages (from importlib-metadata; python_version < \"3.8\"->click->nltk)\n",
            "Requirement already satisfied: typing-extensions>=3.6.4; python_version < \"3.8\" in /usr/local/lib/python3.6/site-packages (from importlib-metadata; python_version < \"3.8\"->click->nltk)\n",
            "Installing collected packages: nltk\n",
            "Successfully installed nltk-3.6.7\n"
          ]
        }
      ]
    }
  ]
}